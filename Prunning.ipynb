{
 "cells": [
  {
   "cell_type": "code",
   "execution_count": 1,
   "metadata": {},
   "outputs": [],
   "source": [
    "import torch\n",
    "from torch import nn\n",
    "import torch.nn.utils.prune as prune\n",
    "import torch.nn.functional as F"
   ]
  },
  {
   "cell_type": "code",
   "execution_count": 2,
   "metadata": {},
   "outputs": [],
   "source": [
    "device = torch.device('cuda' if torch.cuda.is_available() else 'cpu')\n",
    "\n",
    "class LeNet(nn.Module):\n",
    "    def __init__(self):\n",
    "        super(LeNet, self).__init__()\n",
    "        \n",
    "        self.conv1 = nn.Conv2d(1, 6, 3)\n",
    "        self.conv2 = nn.Conv2d(6,16,3)\n",
    "        self.fc1 = nn.Linear(16*5*5,120)\n",
    "        self.fc2 = nn.Linear(120, 84)\n",
    "        self.fc3= nn.Linear(84,10)\n",
    "        \n",
    "    def forward(self, x):\n",
    "        x = F.max_pool2d(F.relu(self.conv1(x)), (2,2))\n",
    "        x = F.max_pool2d(F.relu(self.conv2(x)), 2)\n",
    "        x = x.view(-1, int(x.nelement() / x.shape[0]))\n",
    "        x = F.relu(self.fc1(x))\n",
    "        x = F.relu(sekf.fc2(x))\n",
    "        x = self.fc3(x)\n",
    "        return x"
   ]
  },
  {
   "cell_type": "code",
   "execution_count": 3,
   "metadata": {},
   "outputs": [],
   "source": [
    "model = LeNet().to(device)"
   ]
  },
  {
   "cell_type": "code",
   "execution_count": 4,
   "metadata": {},
   "outputs": [
    {
     "name": "stdout",
     "output_type": "stream",
     "text": [
      "[('weight', Parameter containing:\n",
      "tensor([[[[-0.1344, -0.2570, -0.0766],\n",
      "          [ 0.1902,  0.2730, -0.0570],\n",
      "          [ 0.3233,  0.0250, -0.1096]]],\n",
      "\n",
      "\n",
      "        [[[ 0.3006, -0.1488,  0.1619],\n",
      "          [ 0.1015,  0.1041, -0.0207],\n",
      "          [-0.0058, -0.2466,  0.1211]]],\n",
      "\n",
      "\n",
      "        [[[-0.0090, -0.1213,  0.1847],\n",
      "          [ 0.2169,  0.3054,  0.1787],\n",
      "          [-0.2001, -0.1974, -0.3088]]],\n",
      "\n",
      "\n",
      "        [[[-0.2924,  0.1331,  0.2393],\n",
      "          [ 0.1412, -0.2841, -0.1181],\n",
      "          [ 0.3100, -0.3310,  0.2429]]],\n",
      "\n",
      "\n",
      "        [[[-0.0296, -0.1413,  0.3116],\n",
      "          [ 0.3214,  0.0974, -0.1454],\n",
      "          [-0.2844, -0.1496,  0.0366]]],\n",
      "\n",
      "\n",
      "        [[[ 0.1690,  0.1320, -0.1280],\n",
      "          [-0.1170,  0.0237,  0.2908],\n",
      "          [ 0.0753, -0.1256,  0.2720]]]], device='cuda:0', requires_grad=True)), ('bias', Parameter containing:\n",
      "tensor([-0.1460, -0.0215, -0.1873,  0.1574,  0.1332,  0.3207], device='cuda:0',\n",
      "       requires_grad=True))]\n"
     ]
    }
   ],
   "source": [
    "module = model.conv1\n",
    "\n",
    "print(list(module.named_parameters()))"
   ]
  },
  {
   "cell_type": "markdown",
   "metadata": {},
   "source": [
    "## Pruning a Module"
   ]
  },
  {
   "cell_type": "code",
   "execution_count": 5,
   "metadata": {},
   "outputs": [
    {
     "data": {
      "text/plain": [
       "Conv2d(1, 6, kernel_size=(3, 3), stride=(1, 1))"
      ]
     },
     "execution_count": 5,
     "metadata": {},
     "output_type": "execute_result"
    }
   ],
   "source": [
    "prune.random_unstructured(module, name='weight', amount=0.3)"
   ]
  },
  {
   "cell_type": "code",
   "execution_count": 6,
   "metadata": {},
   "outputs": [
    {
     "name": "stdout",
     "output_type": "stream",
     "text": [
      "[('bias', Parameter containing:\n",
      "tensor([-0.1460, -0.0215, -0.1873,  0.1574,  0.1332,  0.3207], device='cuda:0',\n",
      "       requires_grad=True)), ('weight_orig', Parameter containing:\n",
      "tensor([[[[-0.1344, -0.2570, -0.0766],\n",
      "          [ 0.1902,  0.2730, -0.0570],\n",
      "          [ 0.3233,  0.0250, -0.1096]]],\n",
      "\n",
      "\n",
      "        [[[ 0.3006, -0.1488,  0.1619],\n",
      "          [ 0.1015,  0.1041, -0.0207],\n",
      "          [-0.0058, -0.2466,  0.1211]]],\n",
      "\n",
      "\n",
      "        [[[-0.0090, -0.1213,  0.1847],\n",
      "          [ 0.2169,  0.3054,  0.1787],\n",
      "          [-0.2001, -0.1974, -0.3088]]],\n",
      "\n",
      "\n",
      "        [[[-0.2924,  0.1331,  0.2393],\n",
      "          [ 0.1412, -0.2841, -0.1181],\n",
      "          [ 0.3100, -0.3310,  0.2429]]],\n",
      "\n",
      "\n",
      "        [[[-0.0296, -0.1413,  0.3116],\n",
      "          [ 0.3214,  0.0974, -0.1454],\n",
      "          [-0.2844, -0.1496,  0.0366]]],\n",
      "\n",
      "\n",
      "        [[[ 0.1690,  0.1320, -0.1280],\n",
      "          [-0.1170,  0.0237,  0.2908],\n",
      "          [ 0.0753, -0.1256,  0.2720]]]], device='cuda:0', requires_grad=True))]\n"
     ]
    }
   ],
   "source": [
    "print(list(module.named_parameters()))"
   ]
  },
  {
   "cell_type": "code",
   "execution_count": 7,
   "metadata": {},
   "outputs": [
    {
     "name": "stdout",
     "output_type": "stream",
     "text": [
      "[('weight_mask', tensor([[[[1., 1., 1.],\n",
      "          [1., 1., 1.],\n",
      "          [1., 1., 0.]]],\n",
      "\n",
      "\n",
      "        [[[1., 1., 1.],\n",
      "          [0., 1., 1.],\n",
      "          [1., 1., 1.]]],\n",
      "\n",
      "\n",
      "        [[[1., 0., 1.],\n",
      "          [0., 1., 1.],\n",
      "          [0., 1., 1.]]],\n",
      "\n",
      "\n",
      "        [[[0., 0., 1.],\n",
      "          [0., 1., 0.],\n",
      "          [1., 1., 1.]]],\n",
      "\n",
      "\n",
      "        [[[1., 1., 1.],\n",
      "          [0., 1., 1.],\n",
      "          [0., 0., 0.]]],\n",
      "\n",
      "\n",
      "        [[[1., 0., 1.],\n",
      "          [1., 1., 0.],\n",
      "          [1., 1., 0.]]]], device='cuda:0'))]\n"
     ]
    }
   ],
   "source": [
    "print(list(module.named_buffers()))"
   ]
  },
  {
   "cell_type": "code",
   "execution_count": 8,
   "metadata": {},
   "outputs": [
    {
     "name": "stdout",
     "output_type": "stream",
     "text": [
      "OrderedDict([(0, <torch.nn.utils.prune.RandomUnstructured object at 0x000002016B395088>)])\n"
     ]
    }
   ],
   "source": [
    "# Prunning is applied to each forward pass with forward_pre_hooks.\n",
    "print(module._forward_pre_hooks)"
   ]
  },
  {
   "cell_type": "code",
   "execution_count": 9,
   "metadata": {},
   "outputs": [
    {
     "data": {
      "text/plain": [
       "Conv2d(1, 6, kernel_size=(3, 3), stride=(1, 1))"
      ]
     },
     "execution_count": 9,
     "metadata": {},
     "output_type": "execute_result"
    }
   ],
   "source": [
    "# 3 smallest entries from bias\n",
    "prune.l1_unstructured(module, name='bias', amount=3)"
   ]
  },
  {
   "cell_type": "code",
   "execution_count": 10,
   "metadata": {},
   "outputs": [
    {
     "name": "stdout",
     "output_type": "stream",
     "text": [
      "OrderedDict([(0, <torch.nn.utils.prune.RandomUnstructured object at 0x000002016B395088>), (1, <torch.nn.utils.prune.L1Unstructured object at 0x000002016B3BA8C8>)])\n"
     ]
    }
   ],
   "source": [
    "print(module._forward_pre_hooks)"
   ]
  },
  {
   "cell_type": "markdown",
   "metadata": {},
   "source": [
    "### Iterative Prunning"
   ]
  },
  {
   "cell_type": "code",
   "execution_count": 12,
   "metadata": {},
   "outputs": [
    {
     "name": "stdout",
     "output_type": "stream",
     "text": [
      "tensor([[[[-0.1344, -0.2570, -0.0766],\n",
      "          [ 0.1902,  0.2730, -0.0570],\n",
      "          [ 0.3233,  0.0250, -0.0000]]],\n",
      "\n",
      "\n",
      "        [[[ 0.0000, -0.0000,  0.0000],\n",
      "          [ 0.0000,  0.0000, -0.0000],\n",
      "          [-0.0000, -0.0000,  0.0000]]],\n",
      "\n",
      "\n",
      "        [[[-0.0090, -0.0000,  0.1847],\n",
      "          [ 0.0000,  0.3054,  0.1787],\n",
      "          [-0.0000, -0.1974, -0.3088]]],\n",
      "\n",
      "\n",
      "        [[[-0.0000,  0.0000,  0.2393],\n",
      "          [ 0.0000, -0.2841, -0.0000],\n",
      "          [ 0.3100, -0.3310,  0.2429]]],\n",
      "\n",
      "\n",
      "        [[[-0.0000, -0.0000,  0.0000],\n",
      "          [ 0.0000,  0.0000, -0.0000],\n",
      "          [-0.0000, -0.0000,  0.0000]]],\n",
      "\n",
      "\n",
      "        [[[ 0.0000,  0.0000, -0.0000],\n",
      "          [-0.0000,  0.0000,  0.0000],\n",
      "          [ 0.0000, -0.0000,  0.0000]]]], device='cuda:0',\n",
      "       grad_fn=<MulBackward0>)\n"
     ]
    }
   ],
   "source": [
    "#\n",
    "prune.ln_structured(module, name='weight', amount=0.5,n=2, dim=0)\n",
    "print(module.weight)"
   ]
  },
  {
   "cell_type": "code",
   "execution_count": 14,
   "metadata": {},
   "outputs": [
    {
     "name": "stdout",
     "output_type": "stream",
     "text": [
      "[<torch.nn.utils.prune.RandomUnstructured object at 0x000002016B395088>, <torch.nn.utils.prune.LnStructured object at 0x0000020133ADE688>]\n"
     ]
    }
   ],
   "source": [
    "for hook in module._forward_pre_hooks.values():\n",
    "    if hook._tensor_name == 'weight':\n",
    "        break\n",
    "        \n",
    "print(list(hook))"
   ]
  },
  {
   "cell_type": "code",
   "execution_count": 15,
   "metadata": {},
   "outputs": [
    {
     "data": {
      "text/plain": [
       "odict_keys(['conv1.weight_orig', 'conv1.bias_orig', 'conv1.weight_mask', 'conv1.bias_mask', 'conv2.weight', 'conv2.bias', 'fc1.weight', 'fc1.bias', 'fc2.weight', 'fc2.bias', 'fc3.weight', 'fc3.bias'])"
      ]
     },
     "execution_count": 15,
     "metadata": {},
     "output_type": "execute_result"
    }
   ],
   "source": [
    "model.state_dict().keys()"
   ]
  },
  {
   "cell_type": "code",
   "execution_count": 16,
   "metadata": {},
   "outputs": [
    {
     "name": "stdout",
     "output_type": "stream",
     "text": [
      "[('bias_orig', Parameter containing:\n",
      "tensor([-0.1460, -0.0215, -0.1873,  0.1574,  0.1332,  0.3207], device='cuda:0',\n",
      "       requires_grad=True)), ('weight', Parameter containing:\n",
      "tensor([[[[-0.1344, -0.2570, -0.0766],\n",
      "          [ 0.1902,  0.2730, -0.0570],\n",
      "          [ 0.3233,  0.0250, -0.0000]]],\n",
      "\n",
      "\n",
      "        [[[ 0.0000, -0.0000,  0.0000],\n",
      "          [ 0.0000,  0.0000, -0.0000],\n",
      "          [-0.0000, -0.0000,  0.0000]]],\n",
      "\n",
      "\n",
      "        [[[-0.0090, -0.0000,  0.1847],\n",
      "          [ 0.0000,  0.3054,  0.1787],\n",
      "          [-0.0000, -0.1974, -0.3088]]],\n",
      "\n",
      "\n",
      "        [[[-0.0000,  0.0000,  0.2393],\n",
      "          [ 0.0000, -0.2841, -0.0000],\n",
      "          [ 0.3100, -0.3310,  0.2429]]],\n",
      "\n",
      "\n",
      "        [[[-0.0000, -0.0000,  0.0000],\n",
      "          [ 0.0000,  0.0000, -0.0000],\n",
      "          [-0.0000, -0.0000,  0.0000]]],\n",
      "\n",
      "\n",
      "        [[[ 0.0000,  0.0000, -0.0000],\n",
      "          [-0.0000,  0.0000,  0.0000],\n",
      "          [ 0.0000, -0.0000,  0.0000]]]], device='cuda:0', requires_grad=True))]\n"
     ]
    }
   ],
   "source": [
    "prune.remove(module, 'weight')\n",
    "print(list(module.named_parameters()))"
   ]
  },
  {
   "cell_type": "code",
   "execution_count": 17,
   "metadata": {},
   "outputs": [
    {
     "name": "stdout",
     "output_type": "stream",
     "text": [
      "dict_keys(['conv1.weight_mask', 'conv2.weight_mask', 'fc1.weight_mask', 'fc2.weight_mask', 'fc3.weight_mask'])\n"
     ]
    }
   ],
   "source": [
    "# prunning multiple\n",
    "new_model = LeNet()\n",
    "for name, module in new_model.named_modules():\n",
    "    if isinstance(module, torch.nn.Conv2d):\n",
    "        prune.l1_unstructured(module, name='weight', amount=0.2)\n",
    "    elif isinstance(module, torch.nn.Linear):\n",
    "        prune.l1_unstructured(module, name='weight', amount=0.4)\n",
    "print(dict(new_model.named_buffers()).keys())"
   ]
  },
  {
   "cell_type": "markdown",
   "metadata": {},
   "source": [
    "## Global Prunning"
   ]
  },
  {
   "cell_type": "code",
   "execution_count": null,
   "metadata": {},
   "outputs": [],
   "source": []
  }
 ],
 "metadata": {
  "kernelspec": {
   "display_name": "Python 3",
   "language": "python",
   "name": "python3"
  },
  "language_info": {
   "codemirror_mode": {
    "name": "ipython",
    "version": 3
   },
   "file_extension": ".py",
   "mimetype": "text/x-python",
   "name": "python",
   "nbconvert_exporter": "python",
   "pygments_lexer": "ipython3",
   "version": "3.7.6"
  }
 },
 "nbformat": 4,
 "nbformat_minor": 4
}
